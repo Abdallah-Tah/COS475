{
 "cells": [
  {
   "cell_type": "markdown",
   "metadata": {},
   "source": [
    "## Abdallah Mohamed\n"
   ]
  },
  {
   "cell_type": "markdown",
   "metadata": {
    "id": "GVQOKsewCndu"
   },
   "source": [
    "## County Health Rankings\n",
    "\n",
    "This data set is intended to demonstrate how various factors affect the health of counties in the United States, as well as highlight the dramatic range in health from county to county. These factors include access to affordable housing, access to well-paying jobs, education opportunities, and many others. This data is provided as a resource to help identify and address injustices and inequities in the health of counties in the United States.\n",
    "\n",
    "The data set includes statistics on premature death rates, physical health, mental health, low birthweight, adult smoking, and countless others. The data is primarily numeric.\n",
    "\n",
    "Documentation can be found at : https://www.countyhealthrankings.org/sites/default/files/media/document/DataDictionary_2021.pdf\n"
   ]
  },
  {
   "cell_type": "code",
   "execution_count": 1,
   "metadata": {
    "id": "HRVEv2hyCndx"
   },
   "outputs": [],
   "source": [
    "import numpy as np\n",
    "import pandas as pd\n",
    "import requests\n",
    "import io\n",
    "\n",
    "from sklearn.impute import SimpleImputer \n",
    "from sklearn.pipeline import Pipeline\n",
    "from sklearn.preprocessing import StandardScaler\n",
    "from sklearn.compose import ColumnTransformer \n",
    "from sklearn.model_selection import train_test_split\n",
    "from pylab import cm\n",
    "\n",
    "import matplotlib.pyplot as plt\n",
    "%matplotlib inline"
   ]
  },
  {
   "cell_type": "markdown",
   "metadata": {
    "id": "yltcgOhDCndy"
   },
   "source": [
    "#### Read in the data "
   ]
  },
  {
   "cell_type": "code",
   "execution_count": 2,
   "metadata": {
    "id": "KQzpIf4dCndy"
   },
   "outputs": [],
   "source": [
    "url = 'http://www.countyhealthrankings.org/sites/default/files/media/document/analytic_data2021.csv'\n",
    "response = requests.get(url)\n",
    "\n",
    "file_object = io.StringIO(response.content.decode('utf-8'))\n",
    "df = pd.read_csv(file_object,skiprows=[0])"
   ]
  },
  {
   "cell_type": "code",
   "execution_count": 3,
   "metadata": {
    "id": "eycgb5YpCndz"
   },
   "outputs": [
    {
     "data": {
      "text/html": [
       "<div>\n",
       "<style scoped>\n",
       "    .dataframe tbody tr th:only-of-type {\n",
       "        vertical-align: middle;\n",
       "    }\n",
       "\n",
       "    .dataframe tbody tr th {\n",
       "        vertical-align: top;\n",
       "    }\n",
       "\n",
       "    .dataframe thead th {\n",
       "        text-align: right;\n",
       "    }\n",
       "</style>\n",
       "<table border=\"1\" class=\"dataframe\">\n",
       "  <thead>\n",
       "    <tr style=\"text-align: right;\">\n",
       "      <th></th>\n",
       "      <th>statecode</th>\n",
       "      <th>countycode</th>\n",
       "      <th>fipscode</th>\n",
       "      <th>state</th>\n",
       "      <th>county</th>\n",
       "      <th>year</th>\n",
       "      <th>county_ranked</th>\n",
       "      <th>v001_rawvalue</th>\n",
       "      <th>v001_numerator</th>\n",
       "      <th>v001_denominator</th>\n",
       "      <th>...</th>\n",
       "      <th>v057_rawvalue</th>\n",
       "      <th>v057_numerator</th>\n",
       "      <th>v057_denominator</th>\n",
       "      <th>v057_cilow</th>\n",
       "      <th>v057_cihigh</th>\n",
       "      <th>v058_rawvalue</th>\n",
       "      <th>v058_numerator</th>\n",
       "      <th>v058_denominator</th>\n",
       "      <th>v058_cilow</th>\n",
       "      <th>v058_cihigh</th>\n",
       "    </tr>\n",
       "  </thead>\n",
       "  <tbody>\n",
       "    <tr>\n",
       "      <th>0</th>\n",
       "      <td>0</td>\n",
       "      <td>0</td>\n",
       "      <td>0</td>\n",
       "      <td>US</td>\n",
       "      <td>United States</td>\n",
       "      <td>2021</td>\n",
       "      <td>NaN</td>\n",
       "      <td>6906.641094</td>\n",
       "      <td>3854074.0</td>\n",
       "      <td>915437195.0</td>\n",
       "      <td>...</td>\n",
       "      <td>0.507502</td>\n",
       "      <td>166582199</td>\n",
       "      <td>328239523</td>\n",
       "      <td>NaN</td>\n",
       "      <td>NaN</td>\n",
       "      <td>0.192690</td>\n",
       "      <td>NaN</td>\n",
       "      <td>NaN</td>\n",
       "      <td>NaN</td>\n",
       "      <td>NaN</td>\n",
       "    </tr>\n",
       "    <tr>\n",
       "      <th>1</th>\n",
       "      <td>1</td>\n",
       "      <td>0</td>\n",
       "      <td>1000</td>\n",
       "      <td>AL</td>\n",
       "      <td>Alabama</td>\n",
       "      <td>2021</td>\n",
       "      <td>NaN</td>\n",
       "      <td>9819.887431</td>\n",
       "      <td>82249.0</td>\n",
       "      <td>13651801.0</td>\n",
       "      <td>...</td>\n",
       "      <td>0.516739</td>\n",
       "      <td>2533668</td>\n",
       "      <td>4903185</td>\n",
       "      <td>NaN</td>\n",
       "      <td>NaN</td>\n",
       "      <td>0.409632</td>\n",
       "      <td>1957932.0</td>\n",
       "      <td>4779736.0</td>\n",
       "      <td>NaN</td>\n",
       "      <td>NaN</td>\n",
       "    </tr>\n",
       "    <tr>\n",
       "      <th>2</th>\n",
       "      <td>1</td>\n",
       "      <td>1</td>\n",
       "      <td>1001</td>\n",
       "      <td>AL</td>\n",
       "      <td>Autauga County</td>\n",
       "      <td>2021</td>\n",
       "      <td>1.0</td>\n",
       "      <td>7830.053484</td>\n",
       "      <td>787.0</td>\n",
       "      <td>155765.0</td>\n",
       "      <td>...</td>\n",
       "      <td>0.515080</td>\n",
       "      <td>28777</td>\n",
       "      <td>55869</td>\n",
       "      <td>NaN</td>\n",
       "      <td>NaN</td>\n",
       "      <td>0.420022</td>\n",
       "      <td>22921.0</td>\n",
       "      <td>54571.0</td>\n",
       "      <td>NaN</td>\n",
       "      <td>NaN</td>\n",
       "    </tr>\n",
       "    <tr>\n",
       "      <th>3</th>\n",
       "      <td>1</td>\n",
       "      <td>3</td>\n",
       "      <td>1003</td>\n",
       "      <td>AL</td>\n",
       "      <td>Baldwin County</td>\n",
       "      <td>2021</td>\n",
       "      <td>1.0</td>\n",
       "      <td>7680.477270</td>\n",
       "      <td>3147.0</td>\n",
       "      <td>600539.0</td>\n",
       "      <td>...</td>\n",
       "      <td>0.515096</td>\n",
       "      <td>114987</td>\n",
       "      <td>223234</td>\n",
       "      <td>NaN</td>\n",
       "      <td>NaN</td>\n",
       "      <td>0.422791</td>\n",
       "      <td>77060.0</td>\n",
       "      <td>182265.0</td>\n",
       "      <td>NaN</td>\n",
       "      <td>NaN</td>\n",
       "    </tr>\n",
       "    <tr>\n",
       "      <th>4</th>\n",
       "      <td>1</td>\n",
       "      <td>5</td>\n",
       "      <td>1005</td>\n",
       "      <td>AL</td>\n",
       "      <td>Barbour County</td>\n",
       "      <td>2021</td>\n",
       "      <td>1.0</td>\n",
       "      <td>11476.629416</td>\n",
       "      <td>515.0</td>\n",
       "      <td>69011.0</td>\n",
       "      <td>...</td>\n",
       "      <td>0.470793</td>\n",
       "      <td>11622</td>\n",
       "      <td>24686</td>\n",
       "      <td>NaN</td>\n",
       "      <td>NaN</td>\n",
       "      <td>0.677896</td>\n",
       "      <td>18613.0</td>\n",
       "      <td>27457.0</td>\n",
       "      <td>NaN</td>\n",
       "      <td>NaN</td>\n",
       "    </tr>\n",
       "  </tbody>\n",
       "</table>\n",
       "<p>5 rows × 690 columns</p>\n",
       "</div>"
      ],
      "text/plain": [
       "   statecode  countycode  fipscode state          county  year  county_ranked  \\\n",
       "0          0           0         0    US   United States  2021            NaN   \n",
       "1          1           0      1000    AL         Alabama  2021            NaN   \n",
       "2          1           1      1001    AL  Autauga County  2021            1.0   \n",
       "3          1           3      1003    AL  Baldwin County  2021            1.0   \n",
       "4          1           5      1005    AL  Barbour County  2021            1.0   \n",
       "\n",
       "   v001_rawvalue  v001_numerator  v001_denominator  ...  v057_rawvalue  \\\n",
       "0    6906.641094       3854074.0       915437195.0  ...       0.507502   \n",
       "1    9819.887431         82249.0        13651801.0  ...       0.516739   \n",
       "2    7830.053484           787.0          155765.0  ...       0.515080   \n",
       "3    7680.477270          3147.0          600539.0  ...       0.515096   \n",
       "4   11476.629416           515.0           69011.0  ...       0.470793   \n",
       "\n",
       "   v057_numerator  v057_denominator  v057_cilow  v057_cihigh  v058_rawvalue  \\\n",
       "0       166582199         328239523         NaN          NaN       0.192690   \n",
       "1         2533668           4903185         NaN          NaN       0.409632   \n",
       "2           28777             55869         NaN          NaN       0.420022   \n",
       "3          114987            223234         NaN          NaN       0.422791   \n",
       "4           11622             24686         NaN          NaN       0.677896   \n",
       "\n",
       "   v058_numerator  v058_denominator  v058_cilow  v058_cihigh  \n",
       "0             NaN               NaN         NaN          NaN  \n",
       "1       1957932.0         4779736.0         NaN          NaN  \n",
       "2         22921.0           54571.0         NaN          NaN  \n",
       "3         77060.0          182265.0         NaN          NaN  \n",
       "4         18613.0           27457.0         NaN          NaN  \n",
       "\n",
       "[5 rows x 690 columns]"
      ]
     },
     "execution_count": 3,
     "metadata": {},
     "output_type": "execute_result"
    }
   ],
   "source": [
    "df.head()"
   ]
  },
  {
   "cell_type": "markdown",
   "metadata": {
    "id": "H9KLLrV1Cndz"
   },
   "source": [
    "There are USA aggregate data and state aggregate level data, let's focus only on counties"
   ]
  },
  {
   "cell_type": "code",
   "execution_count": 4,
   "metadata": {
    "id": "EqMmht1KCndz"
   },
   "outputs": [],
   "source": [
    "df = df[df['countycode']!=0]"
   ]
  },
  {
   "cell_type": "markdown",
   "metadata": {
    "id": "h5PVTmxJCnd0"
   },
   "source": [
    "There are 16 Maine counties that we will be taking a close look at later on "
   ]
  },
  {
   "cell_type": "code",
   "execution_count": 5,
   "metadata": {
    "id": "nID5gMFOCnd0"
   },
   "outputs": [],
   "source": [
    "maine_fipscode = df[(df['state']=='ME')].fipscode\n",
    "maine_county_labels = [' Andr',' Aroo',' Cumb', ' Fran', ' Hanc',' Kenn', ' Knox', ' Linc', ' Oxfo', \n",
    "                       ' Peno', ' Pisc', ' Saga', ' Some', ' Waldo', ' Wash', ' York']"
   ]
  },
  {
   "cell_type": "markdown",
   "metadata": {
    "id": "cD9ZMTINCnd1"
   },
   "source": [
    "There are a lot of columns we do need. In particular the numerator, denominator, confidence interval, ... columns for forming the raw_values are included. We get rid of them "
   ]
  },
  {
   "cell_type": "code",
   "execution_count": 6,
   "metadata": {
    "id": "_C1Ikf40Cnd1"
   },
   "outputs": [
    {
     "name": "stdout",
     "output_type": "stream",
     "text": [
      "Number of CHR variables:  79\n"
     ]
    },
    {
     "data": {
      "text/html": [
       "<div>\n",
       "<style scoped>\n",
       "    .dataframe tbody tr th:only-of-type {\n",
       "        vertical-align: middle;\n",
       "    }\n",
       "\n",
       "    .dataframe tbody tr th {\n",
       "        vertical-align: top;\n",
       "    }\n",
       "\n",
       "    .dataframe thead th {\n",
       "        text-align: right;\n",
       "    }\n",
       "</style>\n",
       "<table border=\"1\" class=\"dataframe\">\n",
       "  <thead>\n",
       "    <tr style=\"text-align: right;\">\n",
       "      <th></th>\n",
       "      <th>v001_rawvalue</th>\n",
       "      <th>v002_rawvalue</th>\n",
       "      <th>v036_rawvalue</th>\n",
       "      <th>v042_rawvalue</th>\n",
       "      <th>v037_rawvalue</th>\n",
       "      <th>v009_rawvalue</th>\n",
       "      <th>v011_rawvalue</th>\n",
       "      <th>v133_rawvalue</th>\n",
       "      <th>v070_rawvalue</th>\n",
       "      <th>v132_rawvalue</th>\n",
       "      <th>...</th>\n",
       "      <th>v053_rawvalue</th>\n",
       "      <th>v054_rawvalue</th>\n",
       "      <th>v055_rawvalue</th>\n",
       "      <th>v081_rawvalue</th>\n",
       "      <th>v080_rawvalue</th>\n",
       "      <th>v056_rawvalue</th>\n",
       "      <th>v126_rawvalue</th>\n",
       "      <th>v059_rawvalue</th>\n",
       "      <th>v057_rawvalue</th>\n",
       "      <th>v058_rawvalue</th>\n",
       "    </tr>\n",
       "    <tr>\n",
       "      <th>fipscode</th>\n",
       "      <th></th>\n",
       "      <th></th>\n",
       "      <th></th>\n",
       "      <th></th>\n",
       "      <th></th>\n",
       "      <th></th>\n",
       "      <th></th>\n",
       "      <th></th>\n",
       "      <th></th>\n",
       "      <th></th>\n",
       "      <th></th>\n",
       "      <th></th>\n",
       "      <th></th>\n",
       "      <th></th>\n",
       "      <th></th>\n",
       "      <th></th>\n",
       "      <th></th>\n",
       "      <th></th>\n",
       "      <th></th>\n",
       "      <th></th>\n",
       "      <th></th>\n",
       "    </tr>\n",
       "  </thead>\n",
       "  <tbody>\n",
       "    <tr>\n",
       "      <th>1001</th>\n",
       "      <td>7830.053484</td>\n",
       "      <td>0.198392</td>\n",
       "      <td>4.501499</td>\n",
       "      <td>4.850214</td>\n",
       "      <td>0.092018</td>\n",
       "      <td>0.198108</td>\n",
       "      <td>0.330</td>\n",
       "      <td>6.7</td>\n",
       "      <td>0.306</td>\n",
       "      <td>0.691301</td>\n",
       "      <td>...</td>\n",
       "      <td>0.159731</td>\n",
       "      <td>0.198643</td>\n",
       "      <td>0.004761</td>\n",
       "      <td>0.011742</td>\n",
       "      <td>0.001038</td>\n",
       "      <td>0.029909</td>\n",
       "      <td>0.737708</td>\n",
       "      <td>0.008033</td>\n",
       "      <td>0.515080</td>\n",
       "      <td>0.420022</td>\n",
       "    </tr>\n",
       "    <tr>\n",
       "      <th>1003</th>\n",
       "      <td>7680.477270</td>\n",
       "      <td>0.164607</td>\n",
       "      <td>3.647978</td>\n",
       "      <td>4.768294</td>\n",
       "      <td>0.082920</td>\n",
       "      <td>0.185133</td>\n",
       "      <td>0.300</td>\n",
       "      <td>7.8</td>\n",
       "      <td>0.247</td>\n",
       "      <td>0.737135</td>\n",
       "      <td>...</td>\n",
       "      <td>0.209780</td>\n",
       "      <td>0.086076</td>\n",
       "      <td>0.007803</td>\n",
       "      <td>0.010661</td>\n",
       "      <td>0.000690</td>\n",
       "      <td>0.047188</td>\n",
       "      <td>0.832073</td>\n",
       "      <td>0.007085</td>\n",
       "      <td>0.515096</td>\n",
       "      <td>0.422791</td>\n",
       "    </tr>\n",
       "    <tr>\n",
       "      <th>1005</th>\n",
       "      <td>11476.629416</td>\n",
       "      <td>0.298415</td>\n",
       "      <td>5.569267</td>\n",
       "      <td>5.590494</td>\n",
       "      <td>0.113553</td>\n",
       "      <td>0.255308</td>\n",
       "      <td>0.412</td>\n",
       "      <td>5.5</td>\n",
       "      <td>0.280</td>\n",
       "      <td>0.531668</td>\n",
       "      <td>...</td>\n",
       "      <td>0.196913</td>\n",
       "      <td>0.478287</td>\n",
       "      <td>0.006886</td>\n",
       "      <td>0.004699</td>\n",
       "      <td>0.002106</td>\n",
       "      <td>0.045248</td>\n",
       "      <td>0.455116</td>\n",
       "      <td>0.018907</td>\n",
       "      <td>0.470793</td>\n",
       "      <td>0.677896</td>\n",
       "    </tr>\n",
       "    <tr>\n",
       "      <th>1007</th>\n",
       "      <td>12172.562382</td>\n",
       "      <td>0.238533</td>\n",
       "      <td>4.894377</td>\n",
       "      <td>5.271114</td>\n",
       "      <td>0.102210</td>\n",
       "      <td>0.230848</td>\n",
       "      <td>0.374</td>\n",
       "      <td>7.6</td>\n",
       "      <td>0.334</td>\n",
       "      <td>0.162514</td>\n",
       "      <td>...</td>\n",
       "      <td>0.166696</td>\n",
       "      <td>0.210726</td>\n",
       "      <td>0.004599</td>\n",
       "      <td>0.002143</td>\n",
       "      <td>0.001161</td>\n",
       "      <td>0.027820</td>\n",
       "      <td>0.744083</td>\n",
       "      <td>0.003353</td>\n",
       "      <td>0.467313</td>\n",
       "      <td>0.683526</td>\n",
       "    </tr>\n",
       "    <tr>\n",
       "      <th>1009</th>\n",
       "      <td>11096.050649</td>\n",
       "      <td>0.219856</td>\n",
       "      <td>4.986622</td>\n",
       "      <td>5.357809</td>\n",
       "      <td>0.074305</td>\n",
       "      <td>0.229550</td>\n",
       "      <td>0.330</td>\n",
       "      <td>7.9</td>\n",
       "      <td>0.333</td>\n",
       "      <td>0.156345</td>\n",
       "      <td>...</td>\n",
       "      <td>0.187009</td>\n",
       "      <td>0.015080</td>\n",
       "      <td>0.006399</td>\n",
       "      <td>0.003199</td>\n",
       "      <td>0.001159</td>\n",
       "      <td>0.096531</td>\n",
       "      <td>0.867707</td>\n",
       "      <td>0.016185</td>\n",
       "      <td>0.507626</td>\n",
       "      <td>0.899515</td>\n",
       "    </tr>\n",
       "  </tbody>\n",
       "</table>\n",
       "<p>5 rows × 79 columns</p>\n",
       "</div>"
      ],
      "text/plain": [
       "          v001_rawvalue  v002_rawvalue  v036_rawvalue  v042_rawvalue  \\\n",
       "fipscode                                                               \n",
       "1001        7830.053484       0.198392       4.501499       4.850214   \n",
       "1003        7680.477270       0.164607       3.647978       4.768294   \n",
       "1005       11476.629416       0.298415       5.569267       5.590494   \n",
       "1007       12172.562382       0.238533       4.894377       5.271114   \n",
       "1009       11096.050649       0.219856       4.986622       5.357809   \n",
       "\n",
       "          v037_rawvalue  v009_rawvalue  v011_rawvalue  v133_rawvalue  \\\n",
       "fipscode                                                               \n",
       "1001           0.092018       0.198108          0.330            6.7   \n",
       "1003           0.082920       0.185133          0.300            7.8   \n",
       "1005           0.113553       0.255308          0.412            5.5   \n",
       "1007           0.102210       0.230848          0.374            7.6   \n",
       "1009           0.074305       0.229550          0.330            7.9   \n",
       "\n",
       "          v070_rawvalue  v132_rawvalue  ...  v053_rawvalue  v054_rawvalue  \\\n",
       "fipscode                                ...                                 \n",
       "1001              0.306       0.691301  ...       0.159731       0.198643   \n",
       "1003              0.247       0.737135  ...       0.209780       0.086076   \n",
       "1005              0.280       0.531668  ...       0.196913       0.478287   \n",
       "1007              0.334       0.162514  ...       0.166696       0.210726   \n",
       "1009              0.333       0.156345  ...       0.187009       0.015080   \n",
       "\n",
       "          v055_rawvalue  v081_rawvalue  v080_rawvalue  v056_rawvalue  \\\n",
       "fipscode                                                               \n",
       "1001           0.004761       0.011742       0.001038       0.029909   \n",
       "1003           0.007803       0.010661       0.000690       0.047188   \n",
       "1005           0.006886       0.004699       0.002106       0.045248   \n",
       "1007           0.004599       0.002143       0.001161       0.027820   \n",
       "1009           0.006399       0.003199       0.001159       0.096531   \n",
       "\n",
       "          v126_rawvalue  v059_rawvalue  v057_rawvalue  v058_rawvalue  \n",
       "fipscode                                                              \n",
       "1001           0.737708       0.008033       0.515080       0.420022  \n",
       "1003           0.832073       0.007085       0.515096       0.422791  \n",
       "1005           0.455116       0.018907       0.470793       0.677896  \n",
       "1007           0.744083       0.003353       0.467313       0.683526  \n",
       "1009           0.867707       0.016185       0.507626       0.899515  \n",
       "\n",
       "[5 rows x 79 columns]"
      ]
     },
     "execution_count": 6,
     "metadata": {},
     "output_type": "execute_result"
    }
   ],
   "source": [
    "# select all the columns from CHR with raw values\n",
    "## these columns contain the major health-related variables\n",
    "all_cols = df.columns\n",
    "col_names = [i for i in all_cols if 'rawvalue' in i]\n",
    "print ('Number of CHR variables: ',len(col_names))\n",
    "## We include the fipscode column because we want to get only the maine counties out later on\n",
    "col_names.insert(0,\"fipscode\") \n",
    "df_sub = df[col_names]\n",
    "df_sub = df_sub.set_index('fipscode')\n",
    "df_sub.head()"
   ]
  },
  {
   "cell_type": "markdown",
   "metadata": {
    "id": "Qb3_xt7BCnd2"
   },
   "source": [
    "We get rid of the columns that do not have at least 70% of the rows with values"
   ]
  },
  {
   "cell_type": "code",
   "execution_count": 7,
   "metadata": {
    "id": "BjdAwA4LCnd2"
   },
   "outputs": [
    {
     "name": "stdout",
     "output_type": "stream",
     "text": [
      "               count  percentage\n",
      "v129_rawvalue   1912   60.852960\n",
      "v015_rawvalue   1842   58.625080\n",
      "v149_rawvalue   1836   58.434118\n",
      "v138_rawvalue   1403   44.653087\n",
      "v158_rawvalue   1321   42.043285\n",
      "...              ...         ...\n",
      "v136_rawvalue      0    0.000000\n",
      "v060_rawvalue      0    0.000000\n",
      "v145_rawvalue      0    0.000000\n",
      "v002_rawvalue      0    0.000000\n",
      "v144_rawvalue      0    0.000000\n",
      "\n",
      "[79 rows x 2 columns]\n"
     ]
    },
    {
     "data": {
      "text/html": [
       "<div>\n",
       "<style scoped>\n",
       "    .dataframe tbody tr th:only-of-type {\n",
       "        vertical-align: middle;\n",
       "    }\n",
       "\n",
       "    .dataframe tbody tr th {\n",
       "        vertical-align: top;\n",
       "    }\n",
       "\n",
       "    .dataframe thead th {\n",
       "        text-align: right;\n",
       "    }\n",
       "</style>\n",
       "<table border=\"1\" class=\"dataframe\">\n",
       "  <thead>\n",
       "    <tr style=\"text-align: right;\">\n",
       "      <th></th>\n",
       "      <th>v001_rawvalue</th>\n",
       "      <th>v002_rawvalue</th>\n",
       "      <th>v003_rawvalue</th>\n",
       "      <th>v004_rawvalue</th>\n",
       "      <th>v005_rawvalue</th>\n",
       "      <th>v009_rawvalue</th>\n",
       "      <th>v011_rawvalue</th>\n",
       "      <th>v014_rawvalue</th>\n",
       "      <th>v021_rawvalue</th>\n",
       "      <th>v023_rawvalue</th>\n",
       "      <th>...</th>\n",
       "      <th>v148_rawvalue</th>\n",
       "      <th>v153_rawvalue</th>\n",
       "      <th>v154_rawvalue</th>\n",
       "      <th>v155_rawvalue</th>\n",
       "      <th>v156_rawvalue</th>\n",
       "      <th>v159_rawvalue</th>\n",
       "      <th>v160_rawvalue</th>\n",
       "      <th>v161_rawvalue</th>\n",
       "      <th>v166_rawvalue</th>\n",
       "      <th>v168_rawvalue</th>\n",
       "    </tr>\n",
       "    <tr>\n",
       "      <th>fipscode</th>\n",
       "      <th></th>\n",
       "      <th></th>\n",
       "      <th></th>\n",
       "      <th></th>\n",
       "      <th></th>\n",
       "      <th></th>\n",
       "      <th></th>\n",
       "      <th></th>\n",
       "      <th></th>\n",
       "      <th></th>\n",
       "      <th></th>\n",
       "      <th></th>\n",
       "      <th></th>\n",
       "      <th></th>\n",
       "      <th></th>\n",
       "      <th></th>\n",
       "      <th></th>\n",
       "      <th></th>\n",
       "      <th></th>\n",
       "      <th></th>\n",
       "      <th></th>\n",
       "    </tr>\n",
       "  </thead>\n",
       "  <tbody>\n",
       "    <tr>\n",
       "      <th>1001</th>\n",
       "      <td>7830.053484</td>\n",
       "      <td>0.198392</td>\n",
       "      <td>0.130080</td>\n",
       "      <td>0.000468</td>\n",
       "      <td>6650.0</td>\n",
       "      <td>0.198108</td>\n",
       "      <td>0.330</td>\n",
       "      <td>23.764041</td>\n",
       "      <td>0.890000</td>\n",
       "      <td>0.027281</td>\n",
       "      <td>...</td>\n",
       "      <td>16.562431</td>\n",
       "      <td>0.732906</td>\n",
       "      <td>0.133759</td>\n",
       "      <td>0.42</td>\n",
       "      <td>155.095523</td>\n",
       "      <td>3.126968</td>\n",
       "      <td>2.917280</td>\n",
       "      <td>18.483525</td>\n",
       "      <td>0.805674</td>\n",
       "      <td>0.885166</td>\n",
       "    </tr>\n",
       "    <tr>\n",
       "      <th>1003</th>\n",
       "      <td>7680.477270</td>\n",
       "      <td>0.164607</td>\n",
       "      <td>0.167534</td>\n",
       "      <td>0.000702</td>\n",
       "      <td>3471.0</td>\n",
       "      <td>0.185133</td>\n",
       "      <td>0.300</td>\n",
       "      <td>26.006904</td>\n",
       "      <td>0.880000</td>\n",
       "      <td>0.027258</td>\n",
       "      <td>...</td>\n",
       "      <td>14.350620</td>\n",
       "      <td>0.752453</td>\n",
       "      <td>0.111740</td>\n",
       "      <td>0.46</td>\n",
       "      <td>133.604842</td>\n",
       "      <td>3.192381</td>\n",
       "      <td>3.037912</td>\n",
       "      <td>19.287661</td>\n",
       "      <td>0.818164</td>\n",
       "      <td>0.908062</td>\n",
       "    </tr>\n",
       "    <tr>\n",
       "      <th>1005</th>\n",
       "      <td>11476.629416</td>\n",
       "      <td>0.298415</td>\n",
       "      <td>0.176732</td>\n",
       "      <td>0.000322</td>\n",
       "      <td>5314.0</td>\n",
       "      <td>0.255308</td>\n",
       "      <td>0.412</td>\n",
       "      <td>37.114262</td>\n",
       "      <td>0.820690</td>\n",
       "      <td>0.037952</td>\n",
       "      <td>...</td>\n",
       "      <td>21.211240</td>\n",
       "      <td>0.608989</td>\n",
       "      <td>0.142707</td>\n",
       "      <td>0.39</td>\n",
       "      <td>102.459673</td>\n",
       "      <td>2.389161</td>\n",
       "      <td>2.008629</td>\n",
       "      <td>11.325918</td>\n",
       "      <td>0.605243</td>\n",
       "      <td>0.732131</td>\n",
       "    </tr>\n",
       "    <tr>\n",
       "      <th>1007</th>\n",
       "      <td>12172.562382</td>\n",
       "      <td>0.238533</td>\n",
       "      <td>0.134299</td>\n",
       "      <td>0.000536</td>\n",
       "      <td>6690.0</td>\n",
       "      <td>0.230848</td>\n",
       "      <td>0.374</td>\n",
       "      <td>37.786446</td>\n",
       "      <td>0.880000</td>\n",
       "      <td>0.030628</td>\n",
       "      <td>...</td>\n",
       "      <td>20.410337</td>\n",
       "      <td>0.744159</td>\n",
       "      <td>0.087444</td>\n",
       "      <td>0.40</td>\n",
       "      <td>26.588748</td>\n",
       "      <td>2.688775</td>\n",
       "      <td>2.563367</td>\n",
       "      <td>16.955833</td>\n",
       "      <td>0.692062</td>\n",
       "      <td>0.790574</td>\n",
       "    </tr>\n",
       "    <tr>\n",
       "      <th>1009</th>\n",
       "      <td>11096.050649</td>\n",
       "      <td>0.219856</td>\n",
       "      <td>0.179347</td>\n",
       "      <td>0.000207</td>\n",
       "      <td>4440.0</td>\n",
       "      <td>0.229550</td>\n",
       "      <td>0.330</td>\n",
       "      <td>31.239778</td>\n",
       "      <td>0.929256</td>\n",
       "      <td>0.026687</td>\n",
       "      <td>...</td>\n",
       "      <td>21.449131</td>\n",
       "      <td>0.787787</td>\n",
       "      <td>0.078048</td>\n",
       "      <td>0.40</td>\n",
       "      <td>43.309562</td>\n",
       "      <td>2.901714</td>\n",
       "      <td>2.781497</td>\n",
       "      <td>20.022098</td>\n",
       "      <td>0.730081</td>\n",
       "      <td>0.804906</td>\n",
       "    </tr>\n",
       "  </tbody>\n",
       "</table>\n",
       "<p>5 rows × 72 columns</p>\n",
       "</div>"
      ],
      "text/plain": [
       "          v001_rawvalue  v002_rawvalue  v003_rawvalue  v004_rawvalue  \\\n",
       "fipscode                                                               \n",
       "1001        7830.053484       0.198392       0.130080       0.000468   \n",
       "1003        7680.477270       0.164607       0.167534       0.000702   \n",
       "1005       11476.629416       0.298415       0.176732       0.000322   \n",
       "1007       12172.562382       0.238533       0.134299       0.000536   \n",
       "1009       11096.050649       0.219856       0.179347       0.000207   \n",
       "\n",
       "          v005_rawvalue  v009_rawvalue  v011_rawvalue  v014_rawvalue  \\\n",
       "fipscode                                                               \n",
       "1001             6650.0       0.198108          0.330      23.764041   \n",
       "1003             3471.0       0.185133          0.300      26.006904   \n",
       "1005             5314.0       0.255308          0.412      37.114262   \n",
       "1007             6690.0       0.230848          0.374      37.786446   \n",
       "1009             4440.0       0.229550          0.330      31.239778   \n",
       "\n",
       "          v021_rawvalue  v023_rawvalue  ...  v148_rawvalue  v153_rawvalue  \\\n",
       "fipscode                                ...                                 \n",
       "1001           0.890000       0.027281  ...      16.562431       0.732906   \n",
       "1003           0.880000       0.027258  ...      14.350620       0.752453   \n",
       "1005           0.820690       0.037952  ...      21.211240       0.608989   \n",
       "1007           0.880000       0.030628  ...      20.410337       0.744159   \n",
       "1009           0.929256       0.026687  ...      21.449131       0.787787   \n",
       "\n",
       "          v154_rawvalue  v155_rawvalue  v156_rawvalue  v159_rawvalue  \\\n",
       "fipscode                                                               \n",
       "1001           0.133759           0.42     155.095523       3.126968   \n",
       "1003           0.111740           0.46     133.604842       3.192381   \n",
       "1005           0.142707           0.39     102.459673       2.389161   \n",
       "1007           0.087444           0.40      26.588748       2.688775   \n",
       "1009           0.078048           0.40      43.309562       2.901714   \n",
       "\n",
       "          v160_rawvalue  v161_rawvalue  v166_rawvalue  v168_rawvalue  \n",
       "fipscode                                                              \n",
       "1001           2.917280      18.483525       0.805674       0.885166  \n",
       "1003           3.037912      19.287661       0.818164       0.908062  \n",
       "1005           2.008629      11.325918       0.605243       0.732131  \n",
       "1007           2.563367      16.955833       0.692062       0.790574  \n",
       "1009           2.781497      20.022098       0.730081       0.804906  \n",
       "\n",
       "[5 rows x 72 columns]"
      ]
     },
     "execution_count": 7,
     "metadata": {},
     "output_type": "execute_result"
    }
   ],
   "source": [
    "#count and find the percentage of null values and concatenat the results\n",
    "missing = pd.concat([df_sub.isnull().sum(), 100*df_sub.isnull().mean()], axis=1)\n",
    "missing.columns = ['count', 'percentage']\n",
    "smissing = missing.sort_values(by='count', ascending=False)\n",
    "print(smissing)\n",
    "good_cols = smissing[smissing['percentage'] < 30].index\n",
    "good_cols = good_cols.sort_values()\n",
    "df_sub2 = df_sub[good_cols]\n",
    "df_sub2.head()"
   ]
  },
  {
   "cell_type": "markdown",
   "metadata": {
    "id": "Fhaz580gCnd2"
   },
   "source": [
    "I do a demonstration plot that should be helpful for the Assignment 3 work "
   ]
  },
  {
   "cell_type": "code",
   "execution_count": 8,
   "metadata": {
    "id": "RCzE12wzCnd2"
   },
   "outputs": [
    {
     "data": {
      "image/png": "[encoded data removed]",
      "text/plain": [
       "<Figure size 576x576 with 1 Axes>"
      ]
     },
     "metadata": {
      "needs_background": "light"
     },
     "output_type": "display_data"
    }
   ],
   "source": [
    "fig, ax = plt.subplots(figsize=(8,8))\n",
    "\n",
    "# a boolean series gets created with true values for maine counties \n",
    "maine_counties = df_sub2.index.isin(maine_fipscode)\n",
    "\n",
    "x_axis = df_sub2[maine_counties]['v036_rawvalue']\n",
    "y_axis = df_sub2[maine_counties]['v001_rawvalue']\n",
    "ax.scatter(x_axis, y_axis)\n",
    "\n",
    "ax.set_xlabel('Poor Physical health days', fontsize=18)\n",
    "ax.set_ylabel('Premature Death', fontsize=16)\n",
    "\n",
    "for i, label in enumerate(maine_county_labels):\n",
    "    plt.annotate(label, (x_axis.iloc[i], y_axis.iloc[i]))\n",
    "    \n",
    "plt.show()"
   ]
  },
  {
   "cell_type": "markdown",
   "metadata": {
    "id": "GtBMtzTTCnd3"
   },
   "source": [
    "**For all columns, fill in missing values with the median and normalize the data by subtracting mean anddividing by the standard deviation (hint : you have done this before).**"
   ]
  },
  {
   "cell_type": "markdown",
   "metadata": {},
   "source": [
    "**Fill the Missing values with the Median**"
   ]
  },
  {
   "cell_type": "code",
   "execution_count": 9,
   "metadata": {},
   "outputs": [],
   "source": [
    "imputer = SimpleImputer(missing_values=np.nan, strategy='median')\n",
    "imputer = imputer.fit(df_sub2)\n",
    "  \n",
    "data = imputer.transform(df_sub2)"
   ]
  },
  {
   "cell_type": "markdown",
   "metadata": {},
   "source": [
    "**Normalize the data**"
   ]
  },
  {
   "cell_type": "code",
   "execution_count": 10,
   "metadata": {},
   "outputs": [
    {
     "data": {
      "text/plain": [
       "array([[-0.24724251, -0.05404943, -0.10188911, ...,  0.00492786,\n",
       "         0.58432606,  0.25049753],\n",
       "       [-0.30294768, -0.71441216,  0.50962957, ...,  0.12103158,\n",
       "         0.72553773,  0.61614764],\n",
       "       [ 1.11081531,  1.90100549,  0.65980289, ..., -1.02850982,\n",
       "        -1.68170618, -2.19353192],\n",
       "       ...,\n",
       "       [-0.15376594, -0.62592849,  0.14427898, ...,  1.53998993,\n",
       "         1.59823079,  0.92521938],\n",
       "       [-0.72728419, -0.6772501 ,  0.68168871, ..., -0.13819549,\n",
       "         0.31523036,  0.44881436],\n",
       "       [-1.72634125, -0.63128965,  0.19232084, ..., -0.13819549,\n",
       "         0.15726705,  1.07039715]])"
      ]
     },
     "execution_count": 10,
     "metadata": {},
     "output_type": "execute_result"
    }
   ],
   "source": [
    "scaler = StandardScaler()\n",
    "data = scaler.fit_transform(data)\n",
    "data"
   ]
  },
  {
   "cell_type": "code",
   "execution_count": 11,
   "metadata": {},
   "outputs": [],
   "source": [
    "data = pd.DataFrame(data, columns = list(df_sub2.columns))"
   ]
  },
  {
   "cell_type": "markdown",
   "metadata": {},
   "source": [
    "**We will attempt to predict Premature death (v001_rawvalue) from the remaining attributes. \n",
    "Remove any rows that do not have values for v001_rawvalue. Assign X and y variables.**"
   ]
  },
  {
   "cell_type": "code",
   "execution_count": 12,
   "metadata": {},
   "outputs": [],
   "source": [
    "y = data[[\"v001_rawvalue\"]]\n",
    "X = data.drop(columns = \"v001_rawvalue\")"
   ]
  },
  {
   "cell_type": "markdown",
   "metadata": {},
   "source": [
    "**Create training, validation, and test datasets**"
   ]
  },
  {
   "cell_type": "code",
   "execution_count": 13,
   "metadata": {},
   "outputs": [],
   "source": [
    "X_train, X_test, y_train, y_test = train_test_split(X, y, test_size=0.2, random_state=0)"
   ]
  },
  {
   "cell_type": "code",
   "execution_count": 14,
   "metadata": {},
   "outputs": [],
   "source": [
    "X_train, X_valid, y_train, y_valid = train_test_split(X_train, y_train, test_size=0.25, random_state=0)"
   ]
  },
  {
   "cell_type": "code",
   "execution_count": 15,
   "metadata": {},
   "outputs": [
    {
     "name": "stdout",
     "output_type": "stream",
     "text": [
      "There are 3142 rows in the dataset\n",
      "There are 1884 rows in train data which is 60.0 \n",
      "There are 629 rows in test data which is 20.0 \n",
      "There are 629 rows in valid data which is 20.0 \n"
     ]
    }
   ],
   "source": [
    "#checking of size (rows) of the data\n",
    "print(f\"There are {df.shape[0]} rows in the dataset\")\n",
    "#checking of size (rows) of the data\n",
    "print(f\"There are {X_train.shape[0]} rows in train data which is {round(X_train.shape[0]/df.shape[0]*100, 0)} \")\n",
    "#checking of size (rows) of the data\n",
    "print(f\"There are {X_test.shape[0]} rows in test data which is {round(X_test.shape[0]/df.shape[0]*100, 0)} \")\n",
    "#checking of size (rows) of the data\n",
    "print(f\"There are {X_valid.shape[0]} rows in valid data which is {round(X_valid.shape[0]/df.shape[0]*100, 0)} \")"
   ]
  },
  {
   "cell_type": "markdown",
   "metadata": {},
   "source": [
    "**Run a linear regression on the data and compute the root mean squared error (this will be a value that we will try to beat with our NN)**"
   ]
  },
  {
   "cell_type": "markdown",
   "metadata": {},
   "source": [
    "**Linear Regression**"
   ]
  },
  {
   "cell_type": "code",
   "execution_count": 16,
   "metadata": {},
   "outputs": [
    {
     "name": "stdout",
     "output_type": "stream",
     "text": [
      "RMSE: 0.24317560397080173\n"
     ]
    }
   ],
   "source": [
    "from sklearn.linear_model import LinearRegression\n",
    "from sklearn.metrics import mean_squared_error\n",
    "\n",
    "# Import linear regression\n",
    "lr = LinearRegression()\n",
    "# fit the model\n",
    "lr.fit(X_train, y_train)\n",
    "predictions = lr.predict(X_test)\n",
    "\n",
    "# print RMSE\n",
    "print('RMSE:', np.sqrt(mean_squared_error(y_test, predictions)))"
   ]
  },
  {
   "cell_type": "code",
   "execution_count": 17,
   "metadata": {},
   "outputs": [
    {
     "data": {
      "text/plain": [
       "0.059134374366564206"
      ]
     },
     "execution_count": 17,
     "metadata": {},
     "output_type": "execute_result"
    }
   ],
   "source": [
    "mean_squared_error(y_test, predictions)"
   ]
  },
  {
   "cell_type": "markdown",
   "metadata": {},
   "source": [
    "**Develop and train a Neural Network to predict premature death from the independent values. Test the performance of the network against your validation set. Experiment with different configurations (#,size of the layers).**"
   ]
  },
  {
   "cell_type": "code",
   "execution_count": 36,
   "metadata": {},
   "outputs": [],
   "source": [
    "from tensorflow.keras.models import Sequential\n",
    "from tensorflow.keras.layers import Dense, Activation"
   ]
  },
  {
   "cell_type": "code",
   "execution_count": 37,
   "metadata": {},
   "outputs": [],
   "source": [
    "model = Sequential()\n",
    "model.add(Dense(64, activation='relu',input_shape=(X_train.shape[1],)))\n",
    "model.add(Dense(32, activation='relu'))\n",
    "model.add(Dense(1))\n",
    "model.compile(optimizer='rmsprop', loss='mse')"
   ]
  },
  {
   "cell_type": "code",
   "execution_count": 38,
   "metadata": {},
   "outputs": [
    {
     "data": {
      "image/png": "[encoded data removed]",
      "text/plain": [
       "<Figure size 432x288 with 1 Axes>"
      ]
     },
     "metadata": {
      "needs_background": "light"
     },
     "output_type": "display_data"
    }
   ],
   "source": [
    "num_epochs = 100\n",
    "mse_histories = []\n",
    "\n",
    "history = model.fit(X_train, y_train,validation_data=(X_valid, y_valid),epochs=num_epochs, batch_size=1, verbose=0)\n",
    "\n",
    "mse_history = history.history['loss']\n",
    "mse_histories.append(mse_history)\n",
    "\n",
    "plt.plot(range(1, len(mse_histories[0]) + 1), mse_histories[0])\n",
    "plt.xlabel('Epochs')\n",
    "plt.ylabel('Validation MSE')\n",
    "plt.show()"
   ]
  },
  {
   "cell_type": "markdown",
   "metadata": {},
   "source": [
    "**Choose the best network from the above and evaluate the performance against the test dataset. Did you manage to beat the linear regression result ?**"
   ]
  },
  {
   "cell_type": "code",
   "execution_count": 39,
   "metadata": {},
   "outputs": [
    {
     "name": "stdout",
     "output_type": "stream",
     "text": [
      "20/20 [==============================] - 0s 1ms/step - loss: 0.0861\n",
      "RMSE using NN 0.29339920210430787\n"
     ]
    }
   ],
   "source": [
    "model.fit(X_train, y_train ,epochs=20, batch_size=1, verbose=0)\n",
    "test_data_mse = model.evaluate(X_test, y_test)\n",
    "print('RMSE using NN', np.sqrt(test_data_mse))"
   ]
  },
  {
   "cell_type": "markdown",
   "metadata": {},
   "source": [
    "No, Rmse is 0.29 which is above the linear regression result in the test dataset. "
   ]
  }
 ],
 "metadata": {
  "colab": {
   "name": "CHR.ipynb",
   "provenance": []
  },
  "kernelspec": {
   "display_name": "Python 3",
   "language": "python",
   "name": "python3"
  },
  "language_info": {
   "codemirror_mode": {
    "name": "ipython",
    "version": 3
   },
   "file_extension": ".py",
   "mimetype": "text/x-python",
   "name": "python",
   "nbconvert_exporter": "python",
   "pygments_lexer": "ipython3",
   "version": "3.8.5"
  }
 },
 "nbformat": 4,
 "nbformat_minor": 1
}
